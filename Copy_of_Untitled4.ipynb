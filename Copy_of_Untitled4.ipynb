{
  "nbformat": 4,
  "nbformat_minor": 0,
  "metadata": {
    "colab": {
      "name": "Copy of Untitled4.ipynb",
      "provenance": [],
      "authorship_tag": "ABX9TyPlhxakoZHNEWrJKPlzCGtG",
      "include_colab_link": true
    },
    "kernelspec": {
      "name": "python3",
      "display_name": "Python 3"
    }
  },
  "cells": [
    {
      "cell_type": "markdown",
      "metadata": {
        "id": "view-in-github",
        "colab_type": "text"
      },
      "source": [
        "<a href=\"https://colab.research.google.com/github/Rutujajagtap10/261rutujajagtap/blob/master/Copy_of_Untitled4.ipynb\" target=\"_parent\"><img src=\"https://colab.research.google.com/assets/colab-badge.svg\" alt=\"Open In Colab\"/></a>"
      ]
    },
    {
      "cell_type": "code",
      "metadata": {
        "id": "AMcz4gVDYac7",
        "outputId": "27b85c8a-e5ff-452c-cbab-22a49547fff0",
        "colab": {
          "base_uri": "https://localhost:8080/",
          "height": 661
        }
      },
      "source": [
        "import pandas as pd\n",
        "import matplotlib.pyplot as plt\n",
        "\n",
        "df =pd.read_excel(\"dataset2.xlsx\")\n",
        "print(df)\n",
        "\n",
        "Plantation_Area =df[\"Plantation Area\"]\n",
        "Trees = df[\"Tree Names\"]\n",
        "\n",
        "x=[ ]\n",
        "y=[ ]\n",
        "\n",
        "x= list(Trees)\n",
        "y= list(Plantation_Area)\n",
        "\n",
        "plt.scatter(x,y)\n",
        "plt.xlabel('Trees ->')\n",
        "plt.scatter(x,y)\n",
        "plt.xlabel('Trees ->')\n",
        "plt.ylabel('Plantation_Area->')\n",
        "plt.title('Data')\n",
        "plt.show()\n",
        "\n",
        "plt.bar(x,y)\n",
        "\n"
      ],
      "execution_count": null,
      "outputs": [
        {
          "output_type": "stream",
          "text": [
            "  Tree Names Plantation Area\n",
            "0    Coconut           keral\n",
            "1     Bunyan       karnataka\n",
            "2  Rain Tree     Mahableswer\n",
            "3        Oak       Ratnagiri\n",
            "4     Baobab        Kolhapur\n"
          ],
          "name": "stdout"
        },
        {
          "output_type": "display_data",
          "data": {
            "image/png": "[encoded data removed]",
            "text/plain": [
              "<Figure size 432x288 with 1 Axes>"
            ]
          },
          "metadata": {
            "tags": [],
            "needs_background": "light"
          }
        },
        {
          "output_type": "execute_result",
          "data": {
            "text/plain": [
              "<BarContainer object of 5 artists>"
            ]
          },
          "metadata": {
            "tags": []
          },
          "execution_count": 41
        },
        {
          "output_type": "display_data",
          "data": {
            "image/png": "[encoded data removed]",
            "text/plain": [
              "<Figure size 432x288 with 1 Axes>"
            ]
          },
          "metadata": {
            "tags": [],
            "needs_background": "light"
          }
        }
      ]
    }
  ]
}